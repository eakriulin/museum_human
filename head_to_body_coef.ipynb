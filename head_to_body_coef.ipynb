{
 "cells": [
  {
   "cell_type": "markdown",
   "metadata": {},
   "source": [
    "### Head-to-Body Coefficient\n",
    "\n",
    "In camera images from the museum, visitors are often not fully visible. Their bodies may be partially obscured by other visitors or exhibits, which makes it challenging to identify the image pixels corresponding to their actual positions on the floor. However, more often than not, it is possible to detect their heads.\n",
    "\n",
    "Using the bounding box for a detected head, the height of the corresponding museum visitor can be estimated. According to the [MRI-based anatomical model of the human head](https://pmc.ncbi.nlm.nih.gov/articles/PMC2828153/#:~:text=The%20general%20shape%20of%20the,ethnicity%2C%20sex%2C%20and%20age.), head size is generally proportional to body height. Leveraging this proportionality, a custom head-to-body coefficient specific to our dataset can be determined. This coefficient, $k$, is calculated using the formula:\n",
    "\n",
    "$\n",
    "k = \\frac{\\text{avg body height}}{\\text{avg head height}} = \\frac{\\sum (\\text{body heights}) / N_b}{\\sum (\\text{head heights}) / N_h}\n",
    "$\n",
    "\n",
    "Here, $N_b$ and $N_h$ represent the total numbers of body heights and head heights, respectively, derived from the training set. This coefficient enables the estimation of a person's full body height based on the dimensions of their detected head. The estimated height can then be used to project their position onto the floor."
   ]
  },
  {
   "cell_type": "code",
   "execution_count": null,
   "metadata": {},
   "outputs": [],
   "source": [
    "import numpy as np\n",
    "import os\n",
    "\n",
    "HEAD_CLASS_ID = 0\n",
    "\n",
    "# Replace with the desired path\n",
    "data_dir = '/Users/eakriulin/Downloads/museum_human_v9/train/labels'\n",
    "\n",
    "def exclude_outliers(data):\n",
    "    Q1 = np.percentile(data, 25)\n",
    "    Q3 = np.percentile(data, 75)\n",
    "    IQR = Q3 - Q1\n",
    "\n",
    "    lower_bound = Q1 - 1.5 * IQR\n",
    "    upper_bound = Q3 + 1.5 * IQR\n",
    "\n",
    "    return [x for x in data if lower_bound <= x <= upper_bound]\n",
    "\n",
    "def calculate_head_to_body_coef():\n",
    "    head_heights = []\n",
    "    body_heights = []\n",
    "\n",
    "    for file_name in os.listdir(data_dir):\n",
    "        if not file_name.endswith('.txt'):\n",
    "            continue\n",
    "\n",
    "        file_path = f'{data_dir}/{file_name}'\n",
    "        with open(file_path, 'r') as file:\n",
    "            for line in file.readlines():\n",
    "                attrs = line.split(' ')\n",
    "                class_id = int(attrs[0])\n",
    "                height = float(attrs[4])\n",
    "\n",
    "                if class_id == HEAD_CLASS_ID:\n",
    "                    head_heights.append(height)\n",
    "                else:\n",
    "                    body_heights.append(height)\n",
    "\n",
    "    head_heights = exclude_outliers(head_heights)\n",
    "    body_heights = exclude_outliers(body_heights)\n",
    "\n",
    "    avg_head_height = sum(head_heights) / len(head_heights)\n",
    "    avg_body_height = sum(body_heights) / len(body_heights)\n",
    "\n",
    "    k = avg_body_height / avg_head_height\n",
    "    print('Head-to-Body Coefficient: ', k)\n",
    "\n",
    "calculate_head_to_body_coef()"
   ]
  }
 ],
 "metadata": {
  "kernelspec": {
   "display_name": "Python 3",
   "language": "python",
   "name": "python3"
  },
  "language_info": {
   "codemirror_mode": {
    "name": "ipython",
    "version": 3
   },
   "file_extension": ".py",
   "mimetype": "text/x-python",
   "name": "python",
   "nbconvert_exporter": "python",
   "pygments_lexer": "ipython3",
   "version": "3.10.7"
  }
 },
 "nbformat": 4,
 "nbformat_minor": 2
}
